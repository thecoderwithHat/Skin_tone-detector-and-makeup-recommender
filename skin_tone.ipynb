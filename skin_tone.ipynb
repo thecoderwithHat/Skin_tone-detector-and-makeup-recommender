{
  "nbformat": 4,
  "nbformat_minor": 0,
  "metadata": {
    "colab": {
      "provenance": [],
      "mount_file_id": "1zQLgNT-DMxLb9Ia-SxsYuVDv0FZL48Qn",
      "authorship_tag": "ABX9TyMH8oUAbNRTpt0a8K/sxOCO",
      "include_colab_link": true
    },
    "kernelspec": {
      "name": "python3",
      "display_name": "Python 3"
    },
    "language_info": {
      "name": "python"
    }
  },
  "cells": [
    {
      "cell_type": "markdown",
      "metadata": {
        "id": "view-in-github",
        "colab_type": "text"
      },
      "source": [
        "<a href=\"https://colab.research.google.com/github/thecoderwithHat/Skin_tone-detector-and-makeup-recommender/blob/main/skin_tone.ipynb\" target=\"_parent\"><img src=\"https://colab.research.google.com/assets/colab-badge.svg\" alt=\"Open In Colab\"/></a>"
      ]
    },
    {
      "cell_type": "code",
      "execution_count": 10,
      "metadata": {
        "colab": {
          "base_uri": "https://localhost:8080/"
        },
        "id": "m0OGZ3RdpDwI",
        "outputId": "955a1f89-0826-4184-ea2f-afa4fff0738b"
      },
      "outputs": [
        {
          "output_type": "stream",
          "name": "stdout",
          "text": [
            "Drive already mounted at /content/drive; to attempt to forcibly remount, call drive.mount(\"/content/drive\", force_remount=True).\n"
          ]
        }
      ],
      "source": [
        "from google.colab import drive\n",
        "drive.mount('/content/drive')"
      ]
    },
    {
      "cell_type": "code",
      "source": [],
      "metadata": {
        "id": "-U79cC0Zua0A"
      },
      "execution_count": null,
      "outputs": []
    },
    {
      "cell_type": "code",
      "source": [
        "import numpy as np\n",
        "import tensorflow as tf\n",
        "\n",
        "import os\n",
        "from tensorflow.keras.models import Sequential\n",
        "from tensorflow.keras.layers import GlobalAveragePooling2D, Dense, Dropout\n",
        "from tensorflow.keras.applications import MobileNetV2\n",
        "from tensorflow.keras.optimizers import Adam\n",
        "from tensorflow.keras.callbacks import EarlyStopping, ReduceLROnPlateau"
      ],
      "metadata": {
        "id": "LceFxQ3cudzf"
      },
      "execution_count": 11,
      "outputs": []
    },
    {
      "cell_type": "markdown",
      "source": [
        "Randomizing np and tf"
      ],
      "metadata": {
        "id": "TBq00c4w0If9"
      }
    },
    {
      "cell_type": "code",
      "source": [
        "np.random.seed(42)\n",
        "tf.random.set_seed(42)"
      ],
      "metadata": {
        "id": "hXzkQE4YuelQ"
      },
      "execution_count": 12,
      "outputs": []
    },
    {
      "cell_type": "code",
      "source": [
        "dataset_path = ('/content/drive/MyDrive/Skin_tone_detection/mst-e_data')\n",
        "input_shape = (90,120,3)\n",
        "classes = ()\n",
        "EPOCHS = 50\n",
        "Batch_size = 32\n"
      ],
      "metadata": {
        "id": "fcd9OvLtueuM"
      },
      "execution_count": 13,
      "outputs": []
    },
    {
      "cell_type": "code",
      "source": [
        "data = []\n",
        "labels = []"
      ],
      "metadata": {
        "id": "nbTqLvxIufM7"
      },
      "execution_count": 14,
      "outputs": []
    },
    {
      "cell_type": "code",
      "source": [
        "# Automatically loads data and splits into training and validation sets\n",
        "train_dataset = tf.keras.utils.image_dataset_from_directory(\n",
        "    dataset_path,\n",
        "    validation_split=0.2,\n",
        "    subset=\"training\",\n",
        "    seed=123,\n",
        "    input_shape = (90,120,3),  # Target size for images\n",
        "    batch_size=32\n",
        ")\n",
        "\n",
        "validation_dataset = tf.keras.utils.image_dataset_from_directory(\n",
        "    dataset_path,\n",
        "    validation_split=0.2,\n",
        "    subset=\"validation\",\n",
        "    seed=123,\n",
        "    input_shape = (90,120,3),\n",
        "    batch_size=32\n",
        ")\n"
      ],
      "metadata": {
        "id": "00jFE5Q6b7G2"
      },
      "execution_count": null,
      "outputs": []
    },
    {
      "cell_type": "code",
      "source": [
        "# same as above if this works do not use the above\n",
        "for idx, class_name in enumerate(classes):\n",
        "    class_path = os.path.join(dataset_path, class_name)\n",
        "    for filename in os.listdir(class_path):\n",
        "        image_path = os.path.join(class_path, filename)\n",
        "        image = tf.keras.preprocessing.image.load_img(image_path, target_size=input_shape[:2])\n",
        "        image = tf.keras.preprocessing.image.img_to_array(image)\n",
        "        image = tf.keras.applications.efficientnet.preprocess_input(image) ## efficientnet version ???\n",
        "        data.append(image)\n",
        "        labels.append(idx)"
      ],
      "metadata": {
        "id": "us7yYSqgbdDc"
      },
      "execution_count": 15,
      "outputs": []
    },
    {
      "cell_type": "code",
      "source": [],
      "metadata": {
        "id": "j6cBiOvGeXJa"
      },
      "execution_count": null,
      "outputs": []
    }
  ]
}